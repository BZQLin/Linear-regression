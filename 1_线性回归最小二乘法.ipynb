{
 "cells": [
  {
   "cell_type": "code",
   "execution_count": 1,
   "metadata": {
    "collapsed": true
   },
   "outputs": [],
   "source": [
    "import numpy as np"
   ]
  },
  {
   "cell_type": "code",
   "execution_count": 13,
   "metadata": {
    "collapsed": true
   },
   "outputs": [],
   "source": [
    "a = np.array([[1,2], [3,4]], ndmin = 3, dtype = 'i8')"
   ]
  },
  {
   "cell_type": "code",
   "execution_count": 14,
   "metadata": {},
   "outputs": [
    {
     "data": {
      "text/plain": [
       "array([[[1, 2],\n",
       "        [3, 4]]], dtype=int64)"
      ]
     },
     "execution_count": 14,
     "metadata": {},
     "output_type": "execute_result"
    }
   ],
   "source": [
    "a"
   ]
  },
  {
   "cell_type": "code",
   "execution_count": null,
   "metadata": {
    "collapsed": true
   },
   "outputs": [],
   "source": []
  },
  {
   "cell_type": "code",
   "execution_count": 21,
   "metadata": {
    "collapsed": true
   },
   "outputs": [],
   "source": [
    "points = np.genfromtxt('./ShangGuiGu/data.csv', delimiter=',')"
   ]
  },
  {
   "cell_type": "code",
   "execution_count": 22,
   "metadata": {
    "collapsed": true
   },
   "outputs": [],
   "source": [
    "#定义损失函数,w,b计算好传入，再传输标准值，从而求导误差\n",
    "#模块：损失函数\n",
    "def compete_cost(w, b, points):\n",
    "    total_cost = 0\n",
    "    \n",
    "    #求误差\n",
    "    for i in range(len(points)):\n",
    "        x = points[i, 0]\n",
    "        y = points[i, 1]\n",
    "        total_cost += (y - w*x - b ) ** 2\n",
    "        \n",
    "    return total_cost/len(points)\n",
    "    "
   ]
  },
  {
   "cell_type": "markdown",
   "metadata": {},
   "source": [
    "#定义拟合算法，求取w和b"
   ]
  },
  {
   "cell_type": "code",
   "execution_count": 23,
   "metadata": {
    "collapsed": true
   },
   "outputs": [],
   "source": [
    "#根据线性回归的求取方法，我们需要定义一个平均值的函数\n",
    "def average(data):\n",
    "    sum = 0\n",
    "    for i in range(len(data)):\n",
    "        sum += data[i]\n",
    "    return sum/len(data)"
   ]
  },
  {
   "cell_type": "markdown",
   "metadata": {},
   "source": [
    "#根据公式，定义最重要的拟合函数，这里求取的就是w和b这两组系数\n",
    "#将w,b代入误差函数之后，就可以得到线性误差\n",
    "#深度学习的话，就是可以不断调整w和b，直到求取到最合适的权重和偏差，\n",
    "#也就是所谓的训练过程"
   ]
  },
  {
   "cell_type": "code",
   "execution_count": 26,
   "metadata": {
    "collapsed": true
   },
   "outputs": [],
   "source": [
    "#拟合函数\n",
    "def fit(points):\n",
    "    M = len(points)\n",
    "    x_bar = average(points[:, 0])\n",
    "    \n",
    "    sum_yx = 0\n",
    "    sum_x2 = 0\n",
    "    b = 0\n",
    "    \n",
    "    for i in range(M):\n",
    "        x = points[i, 0]\n",
    "        y = points[i ,1]\n",
    "        sum_yx += y * (x - x_bar)\n",
    "        sum_x2 += x ** 2\n",
    "        \n",
    "    #根据公式\n",
    "    w = sum_yx / (sum_x2 - M * (x_bar ** 2))\n",
    "    \n",
    "    for i in range(M):\n",
    "        x = points[i, 0]\n",
    "        y = points[i ,1]\n",
    "        b += (1/M)*(y - w*x)\n",
    "    b = b\n",
    "    return w, b\n"
   ]
  },
  {
   "cell_type": "code",
   "execution_count": 27,
   "metadata": {},
   "outputs": [
    {
     "name": "stdout",
     "output_type": "stream",
     "text": [
      "w is: 1.32243102276\n",
      "b is: 7.99102098227\n",
      "cost is: 110.257383466\n"
     ]
    }
   ],
   "source": [
    "#测试\n",
    "w, b = fit(points)\n",
    "\n",
    "print(\"w is:\", w)\n",
    "print(\"b is:\", b)\n",
    "\n",
    "cost = compete_cost(w, b, points)\n",
    "\n",
    "print(\"cost is:\", cost)"
   ]
  },
  {
   "cell_type": "code",
   "execution_count": 30,
   "metadata": {},
   "outputs": [
    {
     "data": {
      "image/png": "[encoded data removed]",
      "text/plain": [
       "<matplotlib.figure.Figure at 0x2c7404ab438>"
      ]
     },
     "metadata": {},
     "output_type": "display_data"
    }
   ],
   "source": [
    "#画线\n",
    "import matplotlib.pyplot as plt\n",
    "\n",
    "x = points[:, 0]\n",
    "y = points[:, 1]\n",
    "plt.scatter(x, y)\n",
    "pred_y = w*x + b\n",
    "\n",
    "plt.plot(x, pred_y, c='b')\n",
    "plt.show()"
   ]
  },
  {
   "cell_type": "markdown",
   "metadata": {
    "collapsed": true
   },
   "source": [
    "# 最小二乘法"
   ]
  },
  {
   "cell_type": "markdown",
   "metadata": {},
   "source": [
    "# 模块0 引入包"
   ]
  },
  {
   "cell_type": "code",
   "execution_count": 2,
   "metadata": {
    "collapsed": true
   },
   "outputs": [],
   "source": [
    "import numpy as np\n",
    "#画线\n",
    "import matplotlib.pyplot as plt"
   ]
  },
  {
   "cell_type": "markdown",
   "metadata": {},
   "source": [
    "# 模块1 加入数据"
   ]
  },
  {
   "cell_type": "code",
   "execution_count": 92,
   "metadata": {},
   "outputs": [
    {
     "data": {
      "image/png": "[encoded data removed]",
      "text/plain": [
       "<matplotlib.figure.Figure at 0x1f99fa6e780>"
      ]
     },
     "metadata": {},
     "output_type": "display_data"
    }
   ],
   "source": [
    "points = np.genfromtxt('./ShangGuiGu/data.csv', delimiter=',')\n",
    "points[0,0]\n",
    "\n",
    "# 提取points中的两列数据，分别作为x，y\n",
    "x = points[:, 0]\n",
    "y = points[:, 1]\n",
    "\n",
    "# 用plt画出散点图\n",
    "plt.scatter(x, y)\n",
    "plt.show()"
   ]
  },
  {
   "cell_type": "markdown",
   "metadata": {},
   "source": [
    "# 模块2 定义损失函数\n",
    "\n",
    "模块2之前的属于预处理方面的，都是一些常规性的导入"
   ]
  },
  {
   "cell_type": "code",
   "execution_count": 52,
   "metadata": {
    "collapsed": true
   },
   "outputs": [],
   "source": [
    "#定义损失函数,w,b计算好传入，再传输标准值，从而求导误差\n",
    "#模块：损失函数\n",
    "def compete_cost(w, b, points):\n",
    "    total_cost = 0\n",
    "    \n",
    "    #求误差\n",
    "    for i in range(len(points)):\n",
    "        x = points[i, 0]\n",
    "        y = points[i, 1]\n",
    "        total_cost += (y - w*x - b ) ** 2\n",
    "        \n",
    "    return total_cost/len(points)"
   ]
  },
  {
   "cell_type": "markdown",
   "metadata": {},
   "source": [
    "# 模块3 超参数的选取，初始化定义"
   ]
  },
  {
   "cell_type": "code",
   "execution_count": 57,
   "metadata": {
    "collapsed": true
   },
   "outputs": [],
   "source": [
    "alpha = 0.0002\n",
    "init_w = 0\n",
    "init_b = 0\n",
    "num_iter = 10"
   ]
  },
  {
   "cell_type": "markdown",
   "metadata": {},
   "source": [
    "# 模块4 定义梯度下降算法函数"
   ]
  },
  {
   "cell_type": "code",
   "execution_count": 58,
   "metadata": {
    "collapsed": true
   },
   "outputs": [],
   "source": [
    "#训练函数  需要：原始数据、权重、偏置、学习率、训练次数  还有最重要的梯度更新函数\n",
    "def grad_desc(points, init_w, init_b, alpha, num_iter):\n",
    "    w = init_w\n",
    "    b = init_b\n",
    "    \n",
    "    #定义一个list保存所有的损失函数值，用来显示下降的过程\n",
    "    cost_list = []\n",
    "    \n",
    "    #训练过程\n",
    "    for i in range(num_iter):\n",
    "        cost_list.append( compete_cost(w, b, points))\n",
    "        w, b = step_grad_desc(w, b, alpha, points)\n",
    "        \n",
    "    return [w, b, cost_list]\n",
    "\n",
    "#传说中的梯度更新函数，也就是夹杂求导函数（我们所说的算法就放在这里）的更新函数\n",
    "def step_grad_desc(current_w, current_b, alpha, points):\n",
    "    #根据公式，我们就可以对应公式，将每一项表示并求出来（变量也是根据这个来定义）\n",
    "    #以后的设计也是这样，1弄好算法2根据化简后的算法，定义出相应的函数\n",
    "    #代码秘诀：一个求和符号 = 一个for循环，+= 用一个sum_来接收就好 而且此处还是一个大局部的变量\n",
    "    #公式秘诀：看公式的最简式，看看可不可以化简，另一种方式就是一层一层往上代\n",
    "    #最原始的式子，把式子弄成已知的情况\n",
    "    sum_grad_w = 0\n",
    "    sum_grad_b = 0\n",
    "    M = len(points)\n",
    "    \n",
    "    #根据公式写\n",
    "    for i in range(M):\n",
    "        x = points[i, 0]\n",
    "        y = points[i, 1]\n",
    "        sum_grad_w += (current_w * x + current_b - y) * x\n",
    "        sum_grad_b += current_w * x + current_b - y\n",
    "        \n",
    "    #用公式求当前梯度\n",
    "    grad_w = 2/M * sum_grad_w\n",
    "    \n",
    "    grad_b = 2/M * sum_grad_b\n",
    "    \n",
    "    #梯度下降\n",
    "    updated_w = current_w - alpha * grad_w\n",
    "    updated_b = current_b - alpha * grad_b\n",
    "    \n",
    "    return updated_w, updated_b\n",
    "    "
   ]
  },
  {
   "cell_type": "markdown",
   "metadata": {},
   "source": [
    "# 模块5 测试"
   ]
  },
  {
   "cell_type": "code",
   "execution_count": 59,
   "metadata": {},
   "outputs": [
    {
     "name": "stdout",
     "output_type": "stream",
     "text": [
      "w is:1.47889716658\n",
      "b is:0.0302695513913\n",
      "cost is:112.649944257\n"
     ]
    },
    {
     "data": {
      "image/png": "[encoded data removed]",
      "text/plain": [
       "<matplotlib.figure.Figure at 0x1f99dbbcc88>"
      ]
     },
     "metadata": {},
     "output_type": "display_data"
    }
   ],
   "source": [
    "w, b, cost_list = grad_desc(points, init_w, init_b, alpha, num_iter)\n",
    "\n",
    "print(\"w is:%s\" % w)\n",
    "print(\"b is:%s\" % b)\n",
    "\n",
    "cost = compete_cost(w, b, points)\n",
    "print(\"cost is:%s\" % cost)\n",
    "\n",
    "\n",
    "plt.plot(cost_list)\n",
    "plt.show()\n",
    "\n",
    "    "
   ]
  },
  {
   "cell_type": "code",
   "execution_count": 60,
   "metadata": {},
   "outputs": [
    {
     "data": {
      "image/png": "[encoded data removed]",
      "text/plain": [
       "<matplotlib.figure.Figure at 0x1f99dcb4390>"
      ]
     },
     "metadata": {},
     "output_type": "display_data"
    }
   ],
   "source": [
    "x = points[:, 0]\n",
    "y = points[:, 1]\n",
    "\n",
    "plt.scatter(x, y)\n",
    "pred_y = w*x + b\n",
    "\n",
    "plt.plot(x, pred_y, c='r')\n",
    "plt.show()"
   ]
  },
  {
   "cell_type": "code",
   "execution_count": null,
   "metadata": {
    "collapsed": true
   },
   "outputs": [],
   "source": []
  },
  {
   "cell_type": "markdown",
   "metadata": {},
   "source": [
    "# 调用库进行开发"
   ]
  },
  {
   "cell_type": "code",
   "execution_count": 63,
   "metadata": {
    "collapsed": true
   },
   "outputs": [],
   "source": [
    "import numpy as np\n",
    "import matplotlib.pyplot as plt"
   ]
  },
  {
   "cell_type": "code",
   "execution_count": 99,
   "metadata": {},
   "outputs": [
    {
     "data": {
      "image/png": "[encoded data removed]",
      "text/plain": [
       "<matplotlib.figure.Figure at 0x1f99fc7f2e8>"
      ]
     },
     "metadata": {},
     "output_type": "display_data"
    }
   ],
   "source": [
    "points = np.genfromtxt('./ShangGuiGu/data.csv', delimiter=',')\n",
    "\n",
    "points[0,0]\n",
    "\n",
    "# 提取points中的两列数据，分别作为x，y\n",
    "x = points[:, 0]\n",
    "y = points[:, 1]\n",
    "\n",
    "# 用plt画出散点图\n",
    "plt.scatter(x, y, c='b')\n",
    "plt.show()"
   ]
  },
  {
   "cell_type": "code",
   "execution_count": 66,
   "metadata": {
    "collapsed": true
   },
   "outputs": [],
   "source": [
    "# 损失函数是系数的函数，另外还要传入数据的x，y\n",
    "def compute_cost(w, b, points):\n",
    "    total_cost = 0\n",
    "    M = len(points)\n",
    "    \n",
    "    # 逐点计算平方损失误差，然后求平均数\n",
    "    for i in range(M):\n",
    "        x = points[i, 0]\n",
    "        y = points[i, 1]\n",
    "        total_cost += ( y - w * x - b ) ** 2\n",
    "    \n",
    "    return total_cost/M"
   ]
  },
  {
   "cell_type": "code",
   "execution_count": 67,
   "metadata": {
    "collapsed": true
   },
   "outputs": [],
   "source": [
    "#前三步都是一样的，之后就算是框架不同，也只是顺序不一样而已"
   ]
  },
  {
   "cell_type": "code",
   "execution_count": 88,
   "metadata": {},
   "outputs": [
    {
     "data": {
      "text/plain": [
       "LinearRegression(copy_X=True, fit_intercept=True, n_jobs=1, normalize=False)"
      ]
     },
     "execution_count": 88,
     "metadata": {},
     "output_type": "execute_result"
    }
   ],
   "source": [
    "from sklearn.linear_model import LinearRegression\n",
    "lr = LinearRegression()\n",
    "\n",
    "x_new = x.reshape(-1, 1)\n",
    "y_new = y.reshape(-1, 1)\n",
    "\n",
    "lr.fit(x_new, y_new)"
   ]
  },
  {
   "cell_type": "code",
   "execution_count": 96,
   "metadata": {},
   "outputs": [
    {
     "name": "stdout",
     "output_type": "stream",
     "text": [
      "w is:  1.32243102276\n",
      "b is:  7.99102098227\n",
      "cost is:  110.257383466\n"
     ]
    }
   ],
   "source": [
    "## 从训练好的模型中提取系数和截距\n",
    "w = lr.coef_[0][0]\n",
    "b = lr.intercept_[0]\n",
    "\n",
    "print(\"w is: \", w)\n",
    "print(\"b is: \", b)\n",
    "\n",
    "cost = compute_cost(w, b, points)\n",
    "\n",
    "print(\"cost is: \", cost)"
   ]
  },
  {
   "cell_type": "code",
   "execution_count": 100,
   "metadata": {},
   "outputs": [
    {
     "data": {
      "image/png": "[encoded data removed]",
      "text/plain": [
       "<matplotlib.figure.Figure at 0x1f99fd99320>"
      ]
     },
     "metadata": {},
     "output_type": "display_data"
    }
   ],
   "source": [
    "plt.scatter(x, y, c='b')\n",
    "# 针对每一个x，计算出预测的y值\n",
    "pred_y = w * x + b\n",
    "\n",
    "plt.plot(x, pred_y, c='r')\n",
    "plt.show()"
   ]
  },
  {
   "cell_type": "code",
   "execution_count": null,
   "metadata": {
    "collapsed": true
   },
   "outputs": [],
   "source": []
  }
 ],
 "metadata": {
  "kernelspec": {
   "display_name": "Python 3",
   "language": "python",
   "name": "python3"
  },
  "language_info": {
   "codemirror_mode": {
    "name": "ipython",
    "version": 3
   },
   "file_extension": ".py",
   "mimetype": "text/x-python",
   "name": "python",
   "nbconvert_exporter": "python",
   "pygments_lexer": "ipython3",
   "version": "3.6.1"
  }
 },
 "nbformat": 4,
 "nbformat_minor": 2
}
